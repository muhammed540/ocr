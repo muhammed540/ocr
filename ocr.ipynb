{
  "nbformat": 4,
  "nbformat_minor": 0,
  "metadata": {
    "colab": {
      "provenance": [],
      "toc_visible": true,
      "authorship_tag": "ABX9TyOG2bqWU77gyfCvihuBK7Zl",
      "include_colab_link": true
    },
    "kernelspec": {
      "name": "python3",
      "display_name": "Python 3"
    },
    "language_info": {
      "name": "python"
    }
  },
  "cells": [
    {
      "cell_type": "markdown",
      "metadata": {
        "id": "view-in-github",
        "colab_type": "text"
      },
      "source": [
        "<a href=\"https://colab.research.google.com/github/muhammed540/ocr/blob/main/ocr.ipynb\" target=\"_parent\"><img src=\"https://colab.research.google.com/assets/colab-badge.svg\" alt=\"Open In Colab\"/></a>"
      ]
    },
    {
      "cell_type": "markdown",
      "source": [
        "# İlk kurulumda çalıştırılacaklar"
      ],
      "metadata": {
        "id": "GImzSNOLLlTA"
      }
    },
    {
      "cell_type": "code",
      "source": [
        "#@title Gerekli paketlerin indirilmesi\n",
        "!pip install opencv-python pytesseract"
      ],
      "metadata": {
        "id": "gDiWC1Jm69QP"
      },
      "execution_count": null,
      "outputs": []
    },
    {
      "cell_type": "code",
      "source": [
        "#@title Gerekli paketlerin indirilmesi\n",
        "!sudo apt-get install libleptonica-dev tesseract-ocr libtesseract-dev python3-pil tesseract-ocr-eng tesseract-ocr-script-latn"
      ],
      "metadata": {
        "id": "W1e0SHt47faS"
      },
      "execution_count": null,
      "outputs": []
    },
    {
      "cell_type": "code",
      "execution_count": null,
      "metadata": {
        "id": "JaSKWrH-5siO"
      },
      "outputs": [],
      "source": [
        "#@title Gerekli dosya ve klasörlerin oluşturulması\n",
        "!mkdir ocr\n",
        "%cd ocr\n",
        "!mkdir tessdata\n",
        "!wget https://raw.githubusercontent.com/muhammed540/ocr/main/ocr.py\n",
        "%cd tessdata\n",
        "!wget https://raw.githubusercontent.com/muhammed540/ocr/main/tur.traineddata\n",
        "%cd .."
      ]
    },
    {
      "cell_type": "markdown",
      "source": [
        "# Sürekli çalıştırılacaklar"
      ],
      "metadata": {
        "id": "xH6ERRtyLruX"
      }
    },
    {
      "cell_type": "code",
      "source": [
        "#@title OCR yapılacak dosyaların yüklenmesi. Sadece png uzantılı dosyalar yükleyin\n",
        "import os\n",
        "from google.colab import files\n",
        "\n",
        "# Klasör yolu\n",
        "klasor_yolu = '/content/ocr/resimler'\n",
        "\n",
        "# Klasörü oluştur\n",
        "if not os.path.exists(klasor_yolu):\n",
        "    os.makedirs(klasor_yolu)\n",
        "\n",
        "# Kullanıcıdan dosya seç\n",
        "dosya = files.upload()\n",
        "\n",
        "# Dosyaları kaydet\n",
        "for dosya_adı, dosya_icerik in dosya.items():\n",
        "    dosya_yolu = os.path.join(klasor_yolu, dosya_adı)\n",
        "    with open(dosya_yolu, 'wb') as f:\n",
        "        f.write(dosya_icerik)\n",
        "\n",
        "# Çift yükleme sorunu için çözüm kodu\n",
        "for dosya_adı in os.listdir('/content'):\n",
        "    if dosya_adı.endswith('.png'):\n",
        "        dosya_yolu = os.path.join('/content', dosya_adı)\n",
        "        os.remove(dosya_yolu)\n",
        "\n"
        "# Çift yükleme sorunu için çözüm kodu\n",
        "for dosya_adı in os.listdir('/content/ocr'):\n",
        "    if dosya_adı.endswith('.png'):\n",
        "        dosya_yolu = os.path.join('/content/ocr', dosya_adı)\n",
        "        os.remove(dosya_yolu)\n",
        "\n",
        "print(\"Dosya/lar başarıyla kaydedildi.\")"
      ],
      "metadata": {
        "id": "fiFkNew358Il"
      },
      "execution_count": null,
      "outputs": []
    },
    {
      "cell_type": "code",
      "source": [
        "#@title OCR\n",
        "import cv2\n",
        "import pytesseract\n",
        "import os\n",
        "\n",
        "os.environ['TESSDATA_PREFIX'] = '/content/ocr/tessdata'\n",
        "\n",
        "def extract_tables_and_ocr(png_files):\n",
        "    # Türkçe dil modelini kullanarak tesseract OCR'ı yapılandırın\n",
        "    custom_config = r'--oem 3 --psm 6 -l tur'\n",
        "    pytesseract.pytesseract.tesseract_cmd = 'tesseract'\n",
        "\n",
        "    ocr_results = []  # OCR sonuçlarını depolamak için boş bir liste oluşturun\n",
        "\n",
        "    for png_file in png_files:\n",
        "        # Dosyayı OpenCV ile okuyun\n",
        "        img = cv2.imread(png_file)\n",
        "\n",
        "        # Görüntüyü gri tonlamaya dönüştürün\n",
        "        gray = cv2.cvtColor(img, cv2.COLOR_BGR2GRAY)\n",
        "\n",
        "        # Gürültüyü azaltmak için görüntüyü bulanıklaştırın. Net resimler için gerekli değil\n",
        "        #blur = cv2.GaussianBlur(gray, (5, 5), 0)\n",
        "\n",
        "        # Görüntüyü OCR ile metne dönüştürün\n",
        "        text = pytesseract.image_to_string(gray, config=custom_config)\n",
        "\n",
        "        # Dosya adını ve OCR sonucunu ocr_results listesine ekleyin\n",
        "        ocr_results.append((png_file, text))\n",
        "\n",
        "    return ocr_results\n",
        "\n",
        "# OCR yapılacak PNG dosyalarının listesini oluşturun\n",
        "png_files = [f\"/content/ocr/resimler/{dosya}\" for dosya in os.listdir(\"/content/ocr/resimler\") if dosya.endswith(\".png\")]\n",
        "\n",
        "# Tabloları çıkartmak ve OCR ile metin çıkartmak için fonksiyonu çağırın\n",
        "ocr_results = extract_tables_and_ocr(png_files)\n",
        "\n",
        "# OCR sonuçlarını bir dosyaya yaz\n",
        "with open(\"/content/ocr/resimler/ocr_results.txt\", \"w\") as f:\n",
        "    for result in ocr_results:\n",
        "        dosya_adi = result[0].split(\"/\")[-1]\n",
        "        ocr_metni = result[1]\n",
        "        f.write(f\"Dosya Adı: {dosya_adi}\\n\")\n",
        "        f.write(f\"OCR Sonucu:\\n{ocr_metni}\\n\\n\")\n",
        "\n",
        "print(\"OCR sonuçları ocr_result.txt dosyasına yazıldı.\")"
      ],
      "metadata": {
        "id": "JoVWmbEb8Tda"
      },
      "execution_count": null,
      "outputs": []
    },
    {
      "cell_type": "code",
      "source": [
        "#@title Çıktı dosyasını indir\n",
        "from google.colab import files\n",
        "\n",
        "dosya_yolu = '/content/ocr/resimler/ocr_results.txt'  # İndirmek istediğiniz dosyanın yolunu belirtin\n",
        "\n",
        "files.download(dosya_yolu)"
      ],
      "metadata": {
        "colab": {
          "base_uri": "https://localhost:8080/",
          "height": 17
        },
        "id": "N8Y46l0GF3NG",
        "outputId": "dc2e474b-a08f-4d42-fb91-ad9bcc90f4c5"
      },
      "execution_count": null,
      "outputs": [
        {
          "output_type": "display_data",
          "data": {
            "text/plain": [
              "<IPython.core.display.Javascript object>"
            ],
            "application/javascript": [
              "\n",
              "    async function download(id, filename, size) {\n",
              "      if (!google.colab.kernel.accessAllowed) {\n",
              "        return;\n",
              "      }\n",
              "      const div = document.createElement('div');\n",
              "      const label = document.createElement('label');\n",
              "      label.textContent = `Downloading \"${filename}\": `;\n",
              "      div.appendChild(label);\n",
              "      const progress = document.createElement('progress');\n",
              "      progress.max = size;\n",
              "      div.appendChild(progress);\n",
              "      document.body.appendChild(div);\n",
              "\n",
              "      const buffers = [];\n",
              "      let downloaded = 0;\n",
              "\n",
              "      const channel = await google.colab.kernel.comms.open(id);\n",
              "      // Send a message to notify the kernel that we're ready.\n",
              "      channel.send({})\n",
              "\n",
              "      for await (const message of channel.messages) {\n",
              "        // Send a message to notify the kernel that we're ready.\n",
              "        channel.send({})\n",
              "        if (message.buffers) {\n",
              "          for (const buffer of message.buffers) {\n",
              "            buffers.push(buffer);\n",
              "            downloaded += buffer.byteLength;\n",
              "            progress.value = downloaded;\n",
              "          }\n",
              "        }\n",
              "      }\n",
              "      const blob = new Blob(buffers, {type: 'application/binary'});\n",
              "      const a = document.createElement('a');\n",
              "      a.href = window.URL.createObjectURL(blob);\n",
              "      a.download = filename;\n",
              "      div.appendChild(a);\n",
              "      a.click();\n",
              "      div.remove();\n",
              "    }\n",
              "  "
            ]
          },
          "metadata": {}
        },
        {
          "output_type": "display_data",
          "data": {
            "text/plain": [
              "<IPython.core.display.Javascript object>"
            ],
            "application/javascript": [
              "download(\"download_a181d3a7-3135-4f22-9ce1-e84fd54117b0\", \"ocr_results.txt\", 1022)"
            ]
          },
          "metadata": {}
        }
      ]
    }
  ]
}
