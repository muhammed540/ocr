{
  "nbformat": 4,
  "nbformat_minor": 0,
  "metadata": {
    "colab": {
      "provenance": [],
      "authorship_tag": "ABX9TyPjHK4NFELuzcqK6Xt9uXFh",
      "include_colab_link": true
    },
    "kernelspec": {
      "name": "python3",
      "display_name": "Python 3"
    },
    "language_info": {
      "name": "python"
    }
  },
  "cells": [
    {
      "cell_type": "markdown",
      "metadata": {
        "id": "view-in-github",
        "colab_type": "text"
      },
      "source": [
        "<a href=\"https://colab.research.google.com/github/muhammed540/ocr/blob/main/ocr.ipynb\" target=\"_parent\"><img src=\"https://colab.research.google.com/assets/colab-badge.svg\" alt=\"Open In Colab\"/></a>"
      ]
    },
    {
      "cell_type": "code",
      "source": [
        "!pip install opencv-python pytesseract"
      ],
      "metadata": {
        "id": "gDiWC1Jm69QP"
      },
      "execution_count": null,
      "outputs": []
    },
    {
      "cell_type": "code",
      "source": [
        "!sudo apt-get install libleptonica-dev tesseract-ocr libtesseract-dev python3-pil tesseract-ocr-eng tesseract-ocr-script-latn"
      ],
      "metadata": {
        "id": "W1e0SHt47faS"
      },
      "execution_count": null,
      "outputs": []
    },
    {
      "cell_type": "code",
      "execution_count": null,
      "metadata": {
        "id": "JaSKWrH-5siO"
      },
      "outputs": [],
      "source": [
        "!mkdir ocr\n",
        "%cd ocr\n",
        "!mkdir tessdata\n",
        "!wget https://raw.githubusercontent.com/muhammed540/ocr/main/ocr.py\n",
        "%cd tessdata\n",
        "!wget https://github.com/tesseract-ocr/tessdata/blob/main/tur.traineddata\n",
        "%cd ..\n",
        "#ocr yapılacak resimler ocr klasörüne konulacak. Adı sonuc.png olacak"
      ]
    },
    {
      "cell_type": "code",
      "source": [
        "!python ocr.py"
      ],
      "metadata": {
        "id": "eIwCC23y6WfX"
      },
      "execution_count": null,
      "outputs": []
    }
  ]
}